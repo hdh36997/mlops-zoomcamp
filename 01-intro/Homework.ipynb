{
 "cells": [
  {
   "cell_type": "code",
   "execution_count": 1,
   "id": "898a2072",
   "metadata": {},
   "outputs": [],
   "source": [
    "import pandas as pd\n",
    "from sklearn.feature_extraction import DictVectorizer\n"
   ]
  },
  {
   "cell_type": "code",
   "execution_count": 2,
   "id": "98e8d569",
   "metadata": {},
   "outputs": [
    {
     "data": {
      "text/plain": [
       "'1.4.2'"
      ]
     },
     "execution_count": 2,
     "metadata": {},
     "output_type": "execute_result"
    }
   ],
   "source": [
    "pd.__version__"
   ]
  },
  {
   "cell_type": "code",
   "execution_count": 3,
   "id": "165e0e4d",
   "metadata": {},
   "outputs": [],
   "source": [
    "df = pd.read_parquet('https://d37ci6vzurychx.cloudfront.net/trip-data/yellow_tripdata_2023-01.parquet')\n",
    "df_test = pd.read_parquet('https://d37ci6vzurychx.cloudfront.net/trip-data/yellow_tripdata_2023-02.parquet')"
   ]
  },
  {
   "cell_type": "code",
   "execution_count": 4,
   "id": "023e8c66",
   "metadata": {},
   "outputs": [],
   "source": [
    "import sklearn"
   ]
  },
  {
   "cell_type": "code",
   "execution_count": 5,
   "id": "c2059e26",
   "metadata": {
    "scrolled": true
   },
   "outputs": [
    {
     "data": {
      "text/plain": [
       "'1.0.2'"
      ]
     },
     "execution_count": 5,
     "metadata": {},
     "output_type": "execute_result"
    }
   ],
   "source": [
    "sklearn.__version__"
   ]
  },
  {
   "cell_type": "code",
   "execution_count": 6,
   "id": "f4b62997",
   "metadata": {},
   "outputs": [
    {
     "name": "stdout",
     "output_type": "stream",
     "text": [
      "19\n"
     ]
    }
   ],
   "source": [
    "print(len(df.columns))"
   ]
  },
  {
   "cell_type": "code",
   "execution_count": 7,
   "id": "fe045854",
   "metadata": {},
   "outputs": [
    {
     "data": {
      "text/plain": [
       "Index(['VendorID', 'tpep_pickup_datetime', 'tpep_dropoff_datetime',\n",
       "       'passenger_count', 'trip_distance', 'RatecodeID', 'store_and_fwd_flag',\n",
       "       'PULocationID', 'DOLocationID', 'payment_type', 'fare_amount', 'extra',\n",
       "       'mta_tax', 'tip_amount', 'tolls_amount', 'improvement_surcharge',\n",
       "       'total_amount', 'congestion_surcharge', 'airport_fee'],\n",
       "      dtype='object')"
      ]
     },
     "execution_count": 7,
     "metadata": {},
     "output_type": "execute_result"
    }
   ],
   "source": [
    "df.columns"
   ]
  },
  {
   "cell_type": "code",
   "execution_count": 8,
   "id": "ad296ceb",
   "metadata": {},
   "outputs": [],
   "source": [
    "df['duration'] = df.tpep_dropoff_datetime - df.tpep_pickup_datetime\n",
    "df.duration = df.duration.apply(lambda td: td.total_seconds() / 60)"
   ]
  },
  {
   "cell_type": "code",
   "execution_count": 9,
   "id": "22bbf00e",
   "metadata": {},
   "outputs": [
    {
     "name": "stdout",
     "output_type": "stream",
     "text": [
      "42.594351241920904\n"
     ]
    }
   ],
   "source": [
    "std_duration = df['duration'].std()\n",
    "print(std_duration)"
   ]
  },
  {
   "cell_type": "code",
   "execution_count": 10,
   "id": "6ae7758a",
   "metadata": {},
   "outputs": [
    {
     "name": "stdout",
     "output_type": "stream",
     "text": [
      "98.1220282212598\n"
     ]
    }
   ],
   "source": [
    "initial_count = len(df)\n",
    "\n",
    "df = df[(df['duration'] >= 1) & (df['duration'] <= 60)]\n",
    "\n",
    "filtered_count = len(df)\n",
    "\n",
    "print((filtered_count / initial_count) * 100)"
   ]
  },
  {
   "cell_type": "code",
   "execution_count": 11,
   "id": "8efbfac9",
   "metadata": {},
   "outputs": [],
   "source": [
    "df['PULocationID'] = df['PULocationID'].astype(str)\n",
    "df['DOLocationID'] = df['DOLocationID'].astype(str)"
   ]
  },
  {
   "cell_type": "code",
   "execution_count": 12,
   "id": "de2a74dd",
   "metadata": {},
   "outputs": [],
   "source": [
    "dicts = df[['PULocationID', 'DOLocationID']].to_dict(orient='records')\n"
   ]
  },
  {
   "cell_type": "code",
   "execution_count": 13,
   "id": "d1be275d",
   "metadata": {},
   "outputs": [],
   "source": [
    "dv = DictVectorizer()\n",
    "X = dv.fit_transform(dicts)"
   ]
  },
  {
   "cell_type": "code",
   "execution_count": 14,
   "id": "d75b88c0",
   "metadata": {},
   "outputs": [
    {
     "data": {
      "text/plain": [
       "(3009173, 515)"
      ]
     },
     "execution_count": 14,
     "metadata": {},
     "output_type": "execute_result"
    }
   ],
   "source": [
    "X.shape"
   ]
  },
  {
   "cell_type": "code",
   "execution_count": 15,
   "id": "fd2fceea",
   "metadata": {},
   "outputs": [],
   "source": [
    "from sklearn.linear_model import LinearRegression\n",
    "from sklearn.metrics import mean_squared_error\n",
    "import numpy as np"
   ]
  },
  {
   "cell_type": "code",
   "execution_count": 16,
   "id": "1dfbaebd",
   "metadata": {},
   "outputs": [],
   "source": [
    "y = df['duration'].values"
   ]
  },
  {
   "cell_type": "code",
   "execution_count": 17,
   "id": "89e8a78b",
   "metadata": {},
   "outputs": [
    {
     "data": {
      "text/plain": [
       "LinearRegression()"
      ]
     },
     "execution_count": 17,
     "metadata": {},
     "output_type": "execute_result"
    }
   ],
   "source": [
    "model = LinearRegression()\n",
    "model.fit(X, y)"
   ]
  },
  {
   "cell_type": "code",
   "execution_count": 18,
   "id": "2ea04cf9",
   "metadata": {},
   "outputs": [],
   "source": [
    "y_pred = model.predict(X)"
   ]
  },
  {
   "cell_type": "code",
   "execution_count": 19,
   "id": "bcda6624",
   "metadata": {},
   "outputs": [
    {
     "name": "stdout",
     "output_type": "stream",
     "text": [
      "7.649261027792376\n"
     ]
    }
   ],
   "source": [
    "rmse = np.sqrt(mean_squared_error(y, y_pred))\n",
    "print(rmse)"
   ]
  },
  {
   "cell_type": "code",
   "execution_count": 20,
   "id": "783f4950",
   "metadata": {},
   "outputs": [],
   "source": [
    "df_test['duration'] = (df_test['tpep_dropoff_datetime'] - df_test['tpep_pickup_datetime']).dt.total_seconds() / 60\n",
    "df_test = df_test[(df_test['duration'] >= 1) & (df_test['duration'] <= 60)].copy()\n"
   ]
  },
  {
   "cell_type": "code",
   "execution_count": 21,
   "id": "86a54d85",
   "metadata": {},
   "outputs": [],
   "source": [
    "df_test['PULocationID'] = df_test['PULocationID'].astype(str)\n",
    "df_test['DOLocationID'] = df_test['DOLocationID'].astype(str)"
   ]
  },
  {
   "cell_type": "code",
   "execution_count": 22,
   "id": "2f8363ff",
   "metadata": {},
   "outputs": [],
   "source": [
    "val_dicts = df_test[['PULocationID', 'DOLocationID']].to_dict(orient='records')\n",
    "X_val = dv.transform(val_dicts) "
   ]
  },
  {
   "cell_type": "code",
   "execution_count": 23,
   "id": "298d2bdb",
   "metadata": {},
   "outputs": [],
   "source": [
    "y_val = df_test['duration'].values\n",
    "y_pred = model.predict(X_val)\n",
    "\n",
    "from sklearn.metrics import mean_squared_error\n",
    "import numpy as np\n",
    "\n",
    "rmse_val = np.sqrt(mean_squared_error(y_val, y_pred))"
   ]
  },
  {
   "cell_type": "code",
   "execution_count": 24,
   "id": "e6b0e702",
   "metadata": {},
   "outputs": [
    {
     "name": "stdout",
     "output_type": "stream",
     "text": [
      "7.811832836304415\n"
     ]
    }
   ],
   "source": [
    "print(rmse_val)"
   ]
  }
 ],
 "metadata": {
  "kernelspec": {
   "display_name": "Python 3 (ipykernel)",
   "language": "python",
   "name": "python3"
  },
  "language_info": {
   "codemirror_mode": {
    "name": "ipython",
    "version": 3
   },
   "file_extension": ".py",
   "mimetype": "text/x-python",
   "name": "python",
   "nbconvert_exporter": "python",
   "pygments_lexer": "ipython3",
   "version": "3.9.12"
  }
 },
 "nbformat": 4,
 "nbformat_minor": 5
}
